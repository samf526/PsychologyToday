{
 "cells": [
  {
   "cell_type": "code",
   "execution_count": 291,
   "metadata": {
    "collapsed": true
   },
   "outputs": [],
   "source": [
    "# The %... is an iPython thing, and is not part of the Python language.\n",
    "# In this case we're just telling the plotting library to draw things on\n",
    "# the notebook, instead of on a separate window.\n",
    "%matplotlib inline\n",
    "# See all the \"as ...\" contructs? They're just aliasing the package names.\n",
    "# That way we can call methods like plt.plot() instead of matplotlib.pyplot.plot().\n",
    "import numpy as np\n",
    "import scipy as sp\n",
    "import matplotlib as mpl\n",
    "import matplotlib.cm as cm\n",
    "import matplotlib.pyplot as plt\n",
    "import pandas as pd\n",
    "import time\n",
    "pd.set_option('display.width', 500)\n",
    "pd.set_option('display.max_columns', 100)\n",
    "pd.set_option('display.notebook_repr_html', True)\n",
    "import seaborn as sns\n",
    "sns.set_style(\"whitegrid\")\n",
    "sns.set_context(\"poster\")"
   ]
  },
  {
   "cell_type": "code",
   "execution_count": 292,
   "metadata": {
    "collapsed": false
   },
   "outputs": [],
   "source": [
    "path = '/Users/stevenfelix/Dropbox/DataScience/Projects/PsychologyToday/data/'\n",
    "data = pd.read_csv(path+'psychologytoday2017-02-17.txt', sep = '\\t')"
   ]
  },
  {
   "cell_type": "code",
   "execution_count": 293,
   "metadata": {
    "collapsed": false,
    "scrolled": true
   },
   "outputs": [],
   "source": [
    "data.reset_index\n",
    "del data['Unnamed: 0']\n",
    "del data['sexualitynum'] # few therapists include this\n",
    "del data['specialtiesnum'] # PT limits to 3 specialities, so most everyone lists 3\n",
    "del data['file']"
   ]
  },
  {
   "cell_type": "code",
   "execution_count": 294,
   "metadata": {
    "collapsed": false
   },
   "outputs": [],
   "source": [
    "data = data[data.title != 'treatment facility']\n",
    "data.reset_index(inplace = True)\n",
    "del data['index']"
   ]
  },
  {
   "cell_type": "code",
   "execution_count": 295,
   "metadata": {
    "collapsed": true
   },
   "outputs": [],
   "source": [
    "exclusions = \"\"\"Group, Associates, Professionals, Boston, Center, New England, Recovery, \n",
    "                Massachusetts, Treatment, Network, Newton, Brighton, Arlington, Watertown, \n",
    "                Coaching, Consulting, Cambridge, Somerville, Lexington, Waltham\"\"\".split(', ')\n",
    "exclusions = [string.replace('\\n', '').replace(' ', '') for string in exclusions]\n",
    "to_remove = [any(exclusion in title for exclusion in exclusions) for title in data.name]"
   ]
  },
  {
   "cell_type": "code",
   "execution_count": 296,
   "metadata": {
    "collapsed": false,
    "scrolled": true
   },
   "outputs": [],
   "source": [
    "to_keep = [not b for b in to_remove]"
   ]
  },
  {
   "cell_type": "code",
   "execution_count": 297,
   "metadata": {
    "collapsed": false,
    "scrolled": true
   },
   "outputs": [
    {
     "name": "stdout",
     "output_type": "stream",
     "text": [
      "(1223, 20)\n"
     ]
    },
    {
     "data": {
      "text/html": [
       "<div>\n",
       "<table border=\"1\" class=\"dataframe\">\n",
       "  <thead>\n",
       "    <tr style=\"text-align: right;\">\n",
       "      <th></th>\n",
       "      <th>name</th>\n",
       "      <th>title</th>\n",
       "      <th>degrees</th>\n",
       "      <th>city</th>\n",
       "      <th>profile</th>\n",
       "      <th>years</th>\n",
       "      <th>school</th>\n",
       "      <th>statelicense</th>\n",
       "      <th>graduated</th>\n",
       "      <th>fee</th>\n",
       "      <th>insurance</th>\n",
       "      <th>specialties</th>\n",
       "      <th>issues</th>\n",
       "      <th>issuesnum</th>\n",
       "      <th>mentalhealth</th>\n",
       "      <th>mentalhealthnum</th>\n",
       "      <th>sexuality</th>\n",
       "      <th>treatmentorientation</th>\n",
       "      <th>treatmentorientationnum</th>\n",
       "      <th>url</th>\n",
       "    </tr>\n",
       "  </thead>\n",
       "  <tbody>\n",
       "    <tr>\n",
       "      <th>0</th>\n",
       "      <td>Kevin Ketchum</td>\n",
       "      <td>counselor</td>\n",
       "      <td>ms, ma</td>\n",
       "      <td>Brookline</td>\n",
       "      <td>Are you bright and intelligent but struggle wi...</td>\n",
       "      <td>10.0</td>\n",
       "      <td>Boston Graduate School of Psychoanalysis</td>\n",
       "      <td>NaN</td>\n",
       "      <td>2012.0</td>\n",
       "      <td>60.0</td>\n",
       "      <td>NaN</td>\n",
       "      <td>Anxiety, Depression, Addiction</td>\n",
       "      <td>ADHD, Bipolar Disorder, Developmental Disorder...</td>\n",
       "      <td>11.0</td>\n",
       "      <td>Dissociative Disorders, Impulse Control Disord...</td>\n",
       "      <td>6.0</td>\n",
       "      <td>Bisexual, Gay, Lesbian</td>\n",
       "      <td>Family / Marital, Psychoanalytic, Psychodynamic</td>\n",
       "      <td>3.0</td>\n",
       "      <td>https://therapists.psychologytoday.com/rms/pro...</td>\n",
       "    </tr>\n",
       "    <tr>\n",
       "      <th>1</th>\n",
       "      <td>Kaynaz Mehta</td>\n",
       "      <td>counselor</td>\n",
       "      <td>ma, lmhc</td>\n",
       "      <td>Reading</td>\n",
       "      <td>Therapy is about understanding you. Your stren...</td>\n",
       "      <td>9.0</td>\n",
       "      <td>Boston College</td>\n",
       "      <td>7463 Massachusetts</td>\n",
       "      <td>2008.0</td>\n",
       "      <td>110.0</td>\n",
       "      <td>Yes</td>\n",
       "      <td>Women, Parenting, Anxiety</td>\n",
       "      <td>Addiction, Alcohol Abuse, Career Counseling, C...</td>\n",
       "      <td>20.0</td>\n",
       "      <td>Mood Disorders, Thinking Disorders</td>\n",
       "      <td>2.0</td>\n",
       "      <td>NaN</td>\n",
       "      <td>Culturally Sensitive, Eclectic, Emotionally Fo...</td>\n",
       "      <td>11.0</td>\n",
       "      <td>https://therapists.psychologytoday.com/rms/pro...</td>\n",
       "    </tr>\n",
       "    <tr>\n",
       "      <th>2</th>\n",
       "      <td>Jan Bergstrom</td>\n",
       "      <td>counselor</td>\n",
       "      <td>lmhc</td>\n",
       "      <td>Arlington</td>\n",
       "      <td>My practice with couples and individuals is no...</td>\n",
       "      <td>20.0</td>\n",
       "      <td>Cambridge College</td>\n",
       "      <td>4548 Massachusetts</td>\n",
       "      <td>1995.0</td>\n",
       "      <td>165.0</td>\n",
       "      <td>NaN</td>\n",
       "      <td>Relationship Issues, Trauma and PTSD, Parenting</td>\n",
       "      <td>Behavioral Issues, Depression, Divorce, Dual D...</td>\n",
       "      <td>9.0</td>\n",
       "      <td>Mood Disorders, Thinking Disorders</td>\n",
       "      <td>2.0</td>\n",
       "      <td>Gay, Lesbian</td>\n",
       "      <td>Co-Dependence Tx, Cognitive Behavioral (CBT), ...</td>\n",
       "      <td>12.0</td>\n",
       "      <td>https://therapists.psychologytoday.com/rms/pro...</td>\n",
       "    </tr>\n",
       "    <tr>\n",
       "      <th>3</th>\n",
       "      <td>Peter Guthrie</td>\n",
       "      <td>clinical social work/therapist</td>\n",
       "      <td>licsw</td>\n",
       "      <td>Belmont</td>\n",
       "      <td>Few of us get through life without hitting a b...</td>\n",
       "      <td>20.0</td>\n",
       "      <td>Simmons College School of Social Work</td>\n",
       "      <td>1026571 Massachusetts</td>\n",
       "      <td>1993.0</td>\n",
       "      <td>135.0</td>\n",
       "      <td>Yes</td>\n",
       "      <td>College/Graduate Students, Relationship Issues...</td>\n",
       "      <td>Anxiety, Coping Skills, Depression, Life Coach...</td>\n",
       "      <td>7.0</td>\n",
       "      <td>Mood Disorders</td>\n",
       "      <td>1.0</td>\n",
       "      <td>NaN</td>\n",
       "      <td>Cognitive Behavioral (CBT), Eclectic, Psychody...</td>\n",
       "      <td>5.0</td>\n",
       "      <td>https://therapists.psychologytoday.com/rms/pro...</td>\n",
       "    </tr>\n",
       "    <tr>\n",
       "      <th>4</th>\n",
       "      <td>Felix Treitler</td>\n",
       "      <td>clinical social work/therapist</td>\n",
       "      <td>licsw, usta, uspta</td>\n",
       "      <td>Arlington</td>\n",
       "      <td>I make HOME VISITS to clients who cannot trave...</td>\n",
       "      <td>20.0</td>\n",
       "      <td>Simmons School of Social Work</td>\n",
       "      <td>1024337 Massachusetts</td>\n",
       "      <td>1992.0</td>\n",
       "      <td>100.0</td>\n",
       "      <td>Yes</td>\n",
       "      <td>Depression, Substance Abuse, Life Coaching</td>\n",
       "      <td>12-Step Programs, ADHD, Addiction, Alcohol Abu...</td>\n",
       "      <td>50.0</td>\n",
       "      <td>Elderly Persons Disorders, Impulse Control Dis...</td>\n",
       "      <td>5.0</td>\n",
       "      <td>Bisexual, Gay, Lesbian</td>\n",
       "      <td>Activities Combined with Therapy, Coaching, Co...</td>\n",
       "      <td>23.0</td>\n",
       "      <td>https://therapists.psychologytoday.com/rms/pro...</td>\n",
       "    </tr>\n",
       "  </tbody>\n",
       "</table>\n",
       "</div>"
      ],
      "text/plain": [
       "             name                           title             degrees       city                                            profile  years                                    school           statelicense  graduated    fee insurance                                        specialties                                             issues  issuesnum                                       mentalhealth  mentalhealthnum               sexuality                               treatmentorientation  \\\n",
       "0   Kevin Ketchum                       counselor              ms, ma  Brookline  Are you bright and intelligent but struggle wi...   10.0  Boston Graduate School of Psychoanalysis                    NaN     2012.0   60.0       NaN                     Anxiety, Depression, Addiction  ADHD, Bipolar Disorder, Developmental Disorder...       11.0  Dissociative Disorders, Impulse Control Disord...              6.0  Bisexual, Gay, Lesbian    Family / Marital, Psychoanalytic, Psychodynamic   \n",
       "1    Kaynaz Mehta                       counselor            ma, lmhc    Reading  Therapy is about understanding you. Your stren...    9.0                            Boston College     7463 Massachusetts     2008.0  110.0       Yes                          Women, Parenting, Anxiety  Addiction, Alcohol Abuse, Career Counseling, C...       20.0                 Mood Disorders, Thinking Disorders              2.0                     NaN  Culturally Sensitive, Eclectic, Emotionally Fo...   \n",
       "2   Jan Bergstrom                       counselor                lmhc  Arlington  My practice with couples and individuals is no...   20.0                         Cambridge College     4548 Massachusetts     1995.0  165.0       NaN    Relationship Issues, Trauma and PTSD, Parenting  Behavioral Issues, Depression, Divorce, Dual D...        9.0                 Mood Disorders, Thinking Disorders              2.0            Gay, Lesbian  Co-Dependence Tx, Cognitive Behavioral (CBT), ...   \n",
       "3   Peter Guthrie  clinical social work/therapist               licsw    Belmont  Few of us get through life without hitting a b...   20.0     Simmons College School of Social Work  1026571 Massachusetts     1993.0  135.0       Yes  College/Graduate Students, Relationship Issues...  Anxiety, Coping Skills, Depression, Life Coach...        7.0                                     Mood Disorders              1.0                     NaN  Cognitive Behavioral (CBT), Eclectic, Psychody...   \n",
       "4  Felix Treitler  clinical social work/therapist  licsw, usta, uspta  Arlington  I make HOME VISITS to clients who cannot trave...   20.0             Simmons School of Social Work  1024337 Massachusetts     1992.0  100.0       Yes         Depression, Substance Abuse, Life Coaching  12-Step Programs, ADHD, Addiction, Alcohol Abu...       50.0  Elderly Persons Disorders, Impulse Control Dis...              5.0  Bisexual, Gay, Lesbian  Activities Combined with Therapy, Coaching, Co...   \n",
       "\n",
       "   treatmentorientationnum                                                url  \n",
       "0                      3.0  https://therapists.psychologytoday.com/rms/pro...  \n",
       "1                     11.0  https://therapists.psychologytoday.com/rms/pro...  \n",
       "2                     12.0  https://therapists.psychologytoday.com/rms/pro...  \n",
       "3                      5.0  https://therapists.psychologytoday.com/rms/pro...  \n",
       "4                     23.0  https://therapists.psychologytoday.com/rms/pro...  "
      ]
     },
     "execution_count": 297,
     "metadata": {},
     "output_type": "execute_result"
    }
   ],
   "source": [
    "data = data[to_keep]\n",
    "data.reset_index(inplace = True)\n",
    "del data['index']\n",
    "print data.shape\n",
    "data.head()"
   ]
  },
  {
   "cell_type": "markdown",
   "metadata": {},
   "source": [
    "# What are the most common issues treated by Boston  providers?"
   ]
  },
  {
   "cell_type": "code",
   "execution_count": 299,
   "metadata": {
    "collapsed": false
   },
   "outputs": [],
   "source": [
    "data.issues.fillna('None', inplace = True)"
   ]
  },
  {
   "cell_type": "code",
   "execution_count": 300,
   "metadata": {
    "collapsed": false,
    "scrolled": false
   },
   "outputs": [],
   "source": [
    "# list of lists\n",
    "issues_lists = [issues_str.lower().split(\", \") for issues_str in data.issues]"
   ]
  },
  {
   "cell_type": "code",
   "execution_count": 303,
   "metadata": {
    "collapsed": false
   },
   "outputs": [
    {
     "name": "stdout",
     "output_type": "stream",
     "text": [
      "['adhd', 'bipolar disorder', 'developmental disorders', 'drug abuse', 'emotional disturbance', 'intellectual disability', 'obsessive-compulsive (ocd)', 'school issues', 'sexual abuse', 'sleep or insomnia', 'trauma and ptsd', 'addiction', 'alcohol abuse', 'career counseling', 'chronic pain']\n",
      "18681\n"
     ]
    }
   ],
   "source": [
    "# a single list\n",
    "issues = []\n",
    "[issues.extend(l) for l in issues_lists];\n",
    "print issues[0:15]\n",
    "print len(issues)"
   ]
  },
  {
   "cell_type": "code",
   "execution_count": 304,
   "metadata": {
    "collapsed": false
   },
   "outputs": [
    {
     "data": {
      "text/plain": [
       "434"
      ]
     },
     "execution_count": 304,
     "metadata": {},
     "output_type": "execute_result"
    }
   ],
   "source": [
    "issues_set = set(issues)\n",
    "len(issues_set) # unique issues (very likely some duplication due to spelling and abbreviations)"
   ]
  },
  {
   "cell_type": "code",
   "execution_count": 305,
   "metadata": {
    "collapsed": false
   },
   "outputs": [],
   "source": [
    "from collections import Counter\n",
    "issues_count = Counter(issues)"
   ]
  },
  {
   "cell_type": "code",
   "execution_count": 306,
   "metadata": {
    "collapsed": false,
    "scrolled": true
   },
   "outputs": [
    {
     "data": {
      "text/plain": [
       "[('self esteem', 836),\n",
       " ('grief', 815),\n",
       " ('coping skills', 715),\n",
       " ('peer relationships', 686),\n",
       " ('divorce', 638),\n",
       " ('parenting', 623),\n",
       " ('family conflict', 621),\n",
       " ('relationship issues', 574),\n",
       " ('depression', 573),\n",
       " ('anxiety', 554),\n",
       " ('trauma and ptsd', 553),\n",
       " ('emotional disturbance', 475),\n",
       " ('adhd', 417),\n",
       " ('life coaching', 402),\n",
       " ('behavioral issues', 377),\n",
       " ('bipolar disorder', 365),\n",
       " ('obsessive-compulsive (ocd)', 361),\n",
       " ('anger management', 345),\n",
       " ('spirituality', 338),\n",
       " ('child or adolescent', 337),\n",
       " ('school issues', 327),\n",
       " ('substance abuse', 323),\n",
       " ('addiction', 319),\n",
       " ('sexual abuse', 295),\n",
       " ('women', 292),\n",
       " ('sleep or insomnia', 258),\n",
       " ('codependency', 233),\n",
       " ('career counseling', 231),\n",
       " ('alcohol abuse', 228),\n",
       " ('eating disorders', 225),\n",
       " ('chronic pain', 220),\n",
       " ('adoption', 219),\n",
       " ('dual diagnosis', 216),\n",
       " ('self-harming', 214),\n",
       " ('domestic abuse', 213),\n",
       " ('suicidal ideation', 207),\n",
       " ('domestic violence', 203),\n",
       " ('transgender', 197),\n",
       " ('marital and premarital', 193),\n",
       " ('infidelity', 191),\n",
       " ('infertility', 189),\n",
       " ('borderline personality', 166),\n",
       " ('drug abuse', 158),\n",
       " ('oppositional defiance', 156),\n",
       " ('weight loss', 148),\n",
       " ('learning disabilities', 145),\n",
       " ('narcissistic personality', 135),\n",
       " ('asperger', 132),\n",
       " ('obesity', 131),\n",
       " ('men', 120),\n",
       " ('internet addiction', 111),\n",
       " ('pregnancy', 110),\n",
       " ('developmental disorders', 110),\n",
       " ('chronic impulsivity', 102),\n",
       " ('sexual addiction', 95),\n",
       " ('stress', 90),\n",
       " ('life transitions', 73),\n",
       " ('sex therapy', 68),\n",
       " ('autism', 67),\n",
       " ('gambling', 57),\n",
       " ('teen violence', 56),\n",
       " ('chronic relapse', 56),\n",
       " ('video game addiction', 52),\n",
       " ('racial identity', 51),\n",
       " ('none', 38),\n",
       " ('medication management', 38),\n",
       " ('alzheimer', 36),\n",
       " ('intellectual disability', 36),\n",
       " ('testing and evaluation', 35),\n",
       " ('antisocial personality', 35),\n",
       " ('traumatic brain injury', 34),\n",
       " ('sports performance', 19),\n",
       " ('chronic illness', 19),\n",
       " ('couples therapy', 7),\n",
       " ('college students', 5),\n",
       " ('stress management', 4),\n",
       " ('christian counseling', 3),\n",
       " ('panic disorder', 3),\n",
       " ('phobias', 3),\n",
       " ('adjustment issues', 3),\n",
       " ('childhood trauma', 2),\n",
       " ('aging', 2),\n",
       " ('hypnosis', 2),\n",
       " ('medical detox', 2),\n",
       " ('mindfulness', 2),\n",
       " ('social anxiety', 2),\n",
       " ('caregiver stress', 2),\n",
       " ('adjustment disorder', 2),\n",
       " ('bereavement', 2),\n",
       " ('college/university counseling', 2),\n",
       " ('couples', 2),\n",
       " ('shame', 2),\n",
       " ('identity', 2),\n",
       " ('multicultural issues', 2),\n",
       " ('gender identity', 2),\n",
       " ('sexual dysfunction', 2),\n",
       " ('mindfulness based stress reduction', 2),\n",
       " ('marital and couples issues', 2),\n",
       " ('immigration', 2),\n",
       " ('grief and loss of parent/loved one', 2)]"
      ]
     },
     "execution_count": 306,
     "metadata": {},
     "output_type": "execute_result"
    }
   ],
   "source": [
    "issues_count.most_common(100)"
   ]
  },
  {
   "cell_type": "code",
   "execution_count": 307,
   "metadata": {
    "collapsed": false
   },
   "outputs": [
    {
     "data": {
      "text/plain": [
       "[('self esteem', 836),\n",
       " ('grief', 815),\n",
       " ('coping skills', 715),\n",
       " ('peer relationships', 686),\n",
       " ('divorce', 638)]"
      ]
     },
     "execution_count": 307,
     "metadata": {},
     "output_type": "execute_result"
    }
   ],
   "source": [
    "ordered_tuples = issues_count.most_common()\n",
    "ordered_tuples[0:5]"
   ]
  },
  {
   "cell_type": "code",
   "execution_count": 308,
   "metadata": {
    "collapsed": false
   },
   "outputs": [
    {
     "data": {
      "text/plain": [
       "[('college students', 5),\n",
       " ('stress management', 4),\n",
       " ('christian counseling', 3),\n",
       " ('panic disorder', 3),\n",
       " ('phobias', 3)]"
      ]
     },
     "execution_count": 308,
     "metadata": {},
     "output_type": "execute_result"
    }
   ],
   "source": [
    "# let's isolate the issues that have low endorsement (may be able to combine)\n",
    "less_than_5_tuples = [(k,v) for k,v in ordered_tuples if v <= 5]\n",
    "#less_than_5_tuples = sorted(less_than_5_tuples, key = lambda tup: tup[1])\n",
    "less_than_5_tuples[0:5]"
   ]
  },
  {
   "cell_type": "code",
   "execution_count": 309,
   "metadata": {
    "collapsed": false,
    "scrolled": true
   },
   "outputs": [
    {
     "data": {
      "text/plain": [
       "['college students',\n",
       " 'stress management',\n",
       " 'christian counseling',\n",
       " 'panic disorder',\n",
       " 'phobias']"
      ]
     },
     "execution_count": 309,
     "metadata": {},
     "output_type": "execute_result"
    }
   ],
   "source": [
    "# might be useful later to have just the keys\n",
    "less_than_5_keylist = [k for k,v in less_than_5_tuples]\n",
    "less_than_5_keylist[0:5]"
   ]
  },
  {
   "cell_type": "code",
   "execution_count": 310,
   "metadata": {
    "collapsed": false
   },
   "outputs": [],
   "source": [
    "from fuzzywuzzy import fuzz\n",
    "from fuzzywuzzy import process\n",
    "import re"
   ]
  },
  {
   "cell_type": "code",
   "execution_count": 311,
   "metadata": {
    "collapsed": false
   },
   "outputs": [],
   "source": [
    "potential_changes = []\n",
    "for issue in less_than_5_keylist:\n",
    "    query = issue\n",
    "    choices = issues_count.keys()\n",
    "    choices.remove(query)\n",
    "    choice, match = process.extractOne(query, choices, scorer=fuzz.token_sort_ratio)\n",
    "    potential_changes.append((query, choice, match))"
   ]
  },
  {
   "cell_type": "code",
   "execution_count": 312,
   "metadata": {
    "collapsed": false
   },
   "outputs": [
    {
     "data": {
      "text/plain": [
       "360"
      ]
     },
     "execution_count": 312,
     "metadata": {},
     "output_type": "execute_result"
    }
   ],
   "source": [
    "len(potential_changes)"
   ]
  },
  {
   "cell_type": "code",
   "execution_count": 313,
   "metadata": {
    "collapsed": false
   },
   "outputs": [],
   "source": [
    "# lets remove duplicates\n",
    "potential_changes_cop = potential_changes[:]\n",
    "for i in potential_changes_cop:\n",
    "    for j in potential_changes_cop[1:]:\n",
    "        if i[0] == j[1] and i[1] == j[0]:\n",
    "            potential_changes.remove(j)\n",
    "del potential_changes_cop          "
   ]
  },
  {
   "cell_type": "code",
   "execution_count": 314,
   "metadata": {
    "collapsed": false
   },
   "outputs": [
    {
     "data": {
      "text/plain": [
       "231"
      ]
     },
     "execution_count": 314,
     "metadata": {},
     "output_type": "execute_result"
    }
   ],
   "source": [
    "len(potential_changes) # nice!"
   ]
  },
  {
   "cell_type": "code",
   "execution_count": 315,
   "metadata": {
    "collapsed": true
   },
   "outputs": [],
   "source": [
    "potential_changes_70 = [(original, proposal, value) for \n",
    "                        original, proposal, value in potential_changes if value >=70]"
   ]
  },
  {
   "cell_type": "code",
   "execution_count": 316,
   "metadata": {
    "collapsed": false,
    "scrolled": true
   },
   "outputs": [
    {
     "data": {
      "text/plain": [
       "[('christian counseling', 'career counseling', 70),\n",
       " ('gender identity', 'identity', 70),\n",
       " ('developmental trauma', 'developmental disorders', 70),\n",
       " ('identity development', 'developmental disorders', 70),\n",
       " ('racial and cultural identity', 'racial identity', 70),\n",
       " ('migraines ', 'immigration', 70),\n",
       " ('personality conflicts', 'antisocial personality', 70),\n",
       " ('childhood trauma', 'early childhood', 71),\n",
       " ('mindfulness', 'mindfulness mediaton', 71),\n",
       " ('social anxiety', 'health anxiety', 71),\n",
       " ('multicultural issues', 'medical issues', 71),\n",
       " ('coping with medical illness', 'medical illness', 71),\n",
       " ('substance abuse assessments', 'substance abuse', 71),\n",
       " ('creative process', 'creative issues', 71),\n",
       " ('psychodynamics', 'psychoanalysis', 71),\n",
       " ('self inquiry', 'self/identity', 72),\n",
       " ('sexual desire', 'sexual abuse', 72),\n",
       " ('sexual minorities', 'sexual difficulties', 72),\n",
       " ('panic disorder', 'eating disorders', 73),\n",
       " ('mood disorder', 'hoarding disorder', 73),\n",
       " ('life transitions/ executive function', 'bereavement life transitions', 73),\n",
       " ('couples and marriage counseling', 'couples counseling', 73),\n",
       " ('social isolation', 'suicidal ideation', 73),\n",
       " ('online identity ', 'identity issues', 73),\n",
       " ('disabilities', 'learning disabilities', 73),\n",
       " ('attachment', 'attachment issues', 74),\n",
       " ('polyamory/open relationships', 'peer relationships', 74),\n",
       " ('psychoeducational testing', 'psychological testing', 74),\n",
       " ('child therapy', 'couple therapy', 74),\n",
       " ('family therapy', 'child therapy', 74),\n",
       " ('sexuality and gender', 'queer sexuality', 74),\n",
       " ('veterans and ptsd', 'trauma and ptsd', 75),\n",
       " ('couples and family therapy', 'couple / marital therapy', 75),\n",
       " ('identity', 'self/identity', 76),\n",
       " ('transgender issues', 'transgender', 76),\n",
       " ('self-esteem issues', 'self esteem', 76),\n",
       " ('college students (undergrad ', 'college students', 76),\n",
       " ('parenting issues', 'stepparenting', 76),\n",
       " ('neurodiverse relationships', 'peer relationships', 77),\n",
       " ('sex issues', 'sexuality issues', 77),\n",
       " ('cross-cultural differences', 'cross-cultural issues', 77),\n",
       " ('pregnancy loss', 'pregnancy', 78),\n",
       " ('developmental disabilities', 'developmental disorders', 78),\n",
       " ('cross-cultural couples', 'cross cultural', 78),\n",
       " ('lmhc supervision', 'clinical supervision', 78),\n",
       " ('couple / marital therapy', 'imago couples therapy', 79),\n",
       " ('hoarding disorder', 'eating disorders', 79),\n",
       " ('cross cultural', 'cross-cultural issues', 80),\n",
       " ('chronic disease', 'chronic relapse', 80),\n",
       " ('adjustment issues', 'adjustment disorders', 81),\n",
       " ('psychogenomic testing', 'psychological testing', 81),\n",
       " ('binge eating disorder', 'eating disorders', 81),\n",
       " ('stepparenting', 'parenting', 82),\n",
       " ('psychological and neuropsych testin', 'neuropsychological testing', 82),\n",
       " ('multi-cultural issues', 'cultural issues', 83),\n",
       " ('imago couples therapy', 'couples therapy', 83),\n",
       " ('cultural issues', 'cross-cultural issues', 83),\n",
       " ('relationships', 'peer relationships', 84),\n",
       " ('medical issues', 'medical illnesses', 84),\n",
       " ('co-parenting', 'parenting', 86),\n",
       " ('mid-life transition', 'life transitions', 86),\n",
       " ('college students', 'college age students', 89),\n",
       " ('addictions', 'addiction', 95),\n",
       " ('couple therapy', 'couples therapy', 97),\n",
       " ('pregnancy ', 'pregnancy', 100),\n",
       " ('self-esteem', 'self esteem', 100)]"
      ]
     },
     "execution_count": 316,
     "metadata": {},
     "output_type": "execute_result"
    }
   ],
   "source": [
    "sorted(potential_changes_70, key = lambda x: x[2]) \n",
    "\n",
    "# these aren't too bad"
   ]
  },
  {
   "cell_type": "code",
   "execution_count": 317,
   "metadata": {
    "collapsed": false
   },
   "outputs": [],
   "source": [
    "# lets create a dictionary dict[bad issue] = better issue\n",
    "changes_dict = {}\n",
    "for key1,key2,z in potential_changes_70:\n",
    "    if issues_count[key1] >= issues_count[key2]:\n",
    "        changes_dict[key2] = key1  # the keys in the dictionary are the less-endorsed issue\n",
    "    else:\n",
    "        changes_dict[key1] = key2"
   ]
  },
  {
   "cell_type": "code",
   "execution_count": 320,
   "metadata": {
    "collapsed": false
   },
   "outputs": [],
   "source": [
    "# now use dictionary to change issues\n",
    "for i in range(len(issues)):\n",
    "    update = changes_dict.get(issues[i])\n",
    "    if update:\n",
    "        print '\\n' + issues[i] + ' to ' + update\n",
    "        issues[i] = update\n",
    "\n",
    "# may need to run multiple times until no more output is given"
   ]
  },
  {
   "cell_type": "code",
   "execution_count": 321,
   "metadata": {
    "collapsed": false
   },
   "outputs": [
    {
     "name": "stdout",
     "output_type": "stream",
     "text": [
      "376\n"
     ]
    }
   ],
   "source": [
    "issues_set = set(issues)\n",
    "print len(issues_set) # reduced from ~434~"
   ]
  },
  {
   "cell_type": "code",
   "execution_count": 322,
   "metadata": {
    "collapsed": false
   },
   "outputs": [],
   "source": [
    "issues_count = Counter(issues) # let's update our counter"
   ]
  },
  {
   "cell_type": "code",
   "execution_count": 323,
   "metadata": {
    "collapsed": false,
    "scrolled": true
   },
   "outputs": [],
   "source": [
    "issuesSeries = pd.Series(issues_count)"
   ]
  },
  {
   "cell_type": "code",
   "execution_count": 324,
   "metadata": {
    "collapsed": false
   },
   "outputs": [
    {
     "data": {
      "text/plain": [
       "self esteem            838\n",
       "grief                  815\n",
       "coping skills          715\n",
       "peer relationships     689\n",
       "divorce                638\n",
       "parenting              624\n",
       "family conflict        621\n",
       "relationship issues    574\n",
       "depression             573\n",
       "trauma and ptsd        554\n",
       "dtype: int64"
      ]
     },
     "execution_count": 324,
     "metadata": {},
     "output_type": "execute_result"
    }
   ],
   "source": [
    "issuesSeries.sort_values(inplace = True, ascending = False)\n",
    "issuesSeries.head(10)"
   ]
  },
  {
   "cell_type": "code",
   "execution_count": 326,
   "metadata": {
    "collapsed": false
   },
   "outputs": [
    {
     "data": {
      "text/plain": [
       "<matplotlib.axes._subplots.AxesSubplot at 0x10cce78d0>"
      ]
     },
     "execution_count": 326,
     "metadata": {},
     "output_type": "execute_result"
    },
    {
     "data": {
      "image/png": "[encoded data removed]",
      "text/plain": [
       "<matplotlib.figure.Figure at 0x111970050>"
      ]
     },
     "metadata": {},
     "output_type": "display_data"
    }
   ],
   "source": [
    "issuesSeries[0:20].plot(kind='barh')"
   ]
  },
  {
   "cell_type": "code",
   "execution_count": null,
   "metadata": {
    "collapsed": true
   },
   "outputs": [],
   "source": []
  }
 ],
 "metadata": {
  "celltoolbar": "Raw Cell Format",
  "kernelspec": {
   "display_name": "Python 2",
   "language": "python",
   "name": "python2"
  },
  "language_info": {
   "codemirror_mode": {
    "name": "ipython",
    "version": 2
   },
   "file_extension": ".py",
   "mimetype": "text/x-python",
   "name": "python",
   "nbconvert_exporter": "python",
   "pygments_lexer": "ipython2",
   "version": "2.7.13"
  }
 },
 "nbformat": 4,
 "nbformat_minor": 2
}
