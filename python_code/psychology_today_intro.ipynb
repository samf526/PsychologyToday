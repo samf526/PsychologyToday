{
 "cells": [
  {
   "cell_type": "markdown",
   "metadata": {},
   "source": [
    "# An Introduction to Psychology Today Therapist Data\n",
    "\n",
    "In this inagural blog post, I want to introduce the motivation and data for a data science project I've been working on.\n",
    "\n",
    "For the last 6 years, I have been working on a PhD in Harvard's [Clinical Science](https://psychology.fas.harvard.edu/clinical-psychology) program (part of the Psychology department). As part of my training, I have become familiar with the research base (or lack thereof) for various psychological therapies, as well as with the more general nuances and particulars in the field of mental health treatment.\n",
    "\n",
    "Trying to put my expertise to good use, I have often provided guidance to friends and relatives seeking qualified therapists. And on many occasions I have done the leg work of searching for and evaluating potentional therapists.\n",
    "\n",
    "Much of this time is spent on Psychology Today's (PT) [Find a Therapist](https://therapists.psychologytoday.com/rms/?tr=Hdr_SubBrand) directory, the most extensive online public directory of mental-healthcare providers in the United States. If you were to search Google for a [therapist in your city](http://google.com/search?q=Boston+Ma+therapists), PT's therapist directory would most likely be the first (non-Ad) search result. Unless you live in an very rural area, there are likely to be 100s of therapists within 20 miles of you that have a profile on PT. As such, it is probably the most widely used method of locating potential therapists ([aside from asking friends and family](https://www.psychologytoday.com/blog/freudian-sip/201102/how-find-the-best-therapist-you)).\n",
    "\n",
    "For a relatively small monthly fee, mental health providers (typically in private practice) can take advantage of PT's online visibility and reach by creating a profile in their directory. Profiles are highly structured. Providers can include their title (e.g., psychologist, counselor), degree(s), years of experience, fee, issues treated, treatment orientations/modalities, and brief open-ended description of their approach, goals, and experience. When searching for a therapist, potential consumers (or 'patients', but I'll stick with 'consumers' because much of the therapist-finding process is conducted in the mindset of a consumer) can use search filters to display only those profiles that meet certain criteria.\n",
    "\n",
    "In using PT's directory, a number of things hit me:\n",
    "1. Finding a therapist is HARD. Possibly for some of the following reasons.\n",
    "2. Within a particular category (e.g., providers who treat relationship difficulties), lots of providers sound the same. Just for kicks, here are a few quotes from different therapists on a single search results page:\n",
    "  - I provide a safe, compassionate environment that is supportive and free from judgment.\n",
    "  - I provide a safe, non-judgmental environment to help you gain a deeper understanding of yourself and your life experiences.\n",
    "  - I provide a supportive, safe, nonjudgmental space to share your feelings and address aspects of yourself and your life that you'd like to change or enhance.\n",
    "  - I believe that most of us can greatly benefit from a safe, trusting and collaborative therapeutic relationship.\n",
    "3. There are a lot of providers peddling pseudo-scientific, or downright non-scientific, treatments. (Snarky aside: 'Eclectic therapy' is just another way of saying 'I do whatever I want. I may or may not follow established research or best practices'). Can you imagine a physician saying this and getting away with it?\n",
    "4. The mental health field is highly unregulated. As long as you don't use one of a few protected titles (e.g., psychologist, licensed [anything], psychiatrist), you can call yourself pretty much anything else, and can provide almost any psycho-social service/treatment you want. And those consumers who are not trained in the mental health field are none the wiser.\n",
    "\n",
    "On the heels of these insights, I thought that a more thorough investigation of PT profiles would be a fascinating way to answer a variety of questions about mental health treatment providers and the field more generally. Because it is a national database, PT profiles can also be compared across regions.\n",
    "\n",
    "For the remainder of this post, I will describe my data collection process and present some general descriptive information about the profiles, along with some commentary/analysis. In future posts I will use the data to address more pointed questions."
   ]
  },
  {
   "cell_type": "markdown",
   "metadata": {},
   "source": [
    "-----------\n",
    "\n",
    "\n",
    "## Data collection methods\n",
    "\n",
    "All the code and data for this project can be found in my [github repository](https://github.com/stevenfelix/PsychologyToday). All code is written in Python 2.7.\n",
    "\n",
    "### Sampling\n",
    "\n",
    "From each of the 50 US states, 200 profiles were semi-randomly selected. To do this, the following process was followed for each provider: First, a random zip code was selected from a specific state (e.g., Kansas). PT was then queried using this zip code. Because PT appears to randomly shuffle its search results across identical queries (i.e., if you search 02139 twice, the order of therapists will be different), the first profile in the results was selected. This process was repeated >=200 times for each state (enough times that 200 different profiles were selected).\n",
    "\n",
    "### Profile scraping\n",
    "\n",
    "From each selected profile, I scraped the following information (if provided):\n",
    " - provider name\n",
    " - title (e.g., Licensed Clinical Social Worker)\n",
    " - degree(s)\n",
    " - years of experience (if a range provided, I rounded down)\n",
    " - school\n",
    " - year graduated\n",
    " - licence (# and issuing state)\n",
    " - fee (if range provided, average taken)\n",
    " - accepts insurance (yes/no only)\n",
    " - city, state, zip\n",
    " - list of specialities\n",
    " - list of issues treated\n",
    " - list of \"mental health\" problems treated (this turns out to be useless)\n",
    " - treatment orientation\n",
    " - treatment modality"
   ]
  },
  {
   "cell_type": "markdown",
   "metadata": {},
   "source": [
    "-----------\n",
    "\n",
    "## Descriptive Statistics"
   ]
  },
  {
   "cell_type": "code",
   "execution_count": 1,
   "metadata": {
    "scrolled": true
   },
   "outputs": [
    {
     "name": "stderr",
     "output_type": "stream",
     "text": [
      "/Users/stevenfelix/anaconda2/lib/python2.7/site-packages/matplotlib/font_manager.py:273: UserWarning: Matplotlib is building the font cache using fc-list. This may take a moment.\n",
      "  warnings.warn('Matplotlib is building the font cache using fc-list. This may take a moment.')\n"
     ]
    }
   ],
   "source": [
    "%matplotlib inline\n",
    "import numpy as np\n",
    "import scipy as sp\n",
    "import matplotlib as mpl\n",
    "#import matplotlib.cm as cm\n",
    "import matplotlib.pyplot as plt\n",
    "import pandas as pd\n",
    "#import time\n",
    "from collections import Counter\n",
    "#pd.set_option('display.width', 500)\n",
    "#pd.set_option('display.max_columns', 100)\n",
    "#pd.set_option('display.notebook_repr_html', True)\n",
    "import seaborn as sns\n",
    "#sns.set_style(\"whitegrid\")\n",
    "#sns.set_context(\"poster\")\n",
    "import json\n",
    "#from scipy.cluster.hierarchy import dendrogram, linkage, fcluster\n",
    "import math"
   ]
  },
  {
   "cell_type": "code",
   "execution_count": 25,
   "metadata": {},
   "outputs": [],
   "source": [
    "data = pd.read_pickle('../data/therapist_profiles_clean_07-20.pkl')\n",
    "\n",
    "with open(\"../data/profiledict.json\", \"r\") as fd:\n",
    "    profiledict = json.load(fd)\n",
    "with open(\"../data/profilefeaturesdict_bool_dict.json\", \"r\") as fd:\n",
    "    featuresdict = json.load(fd)"
   ]
  },
  {
   "cell_type": "code",
   "execution_count": 31,
   "metadata": {},
   "outputs": [
    {
     "data": {
      "text/plain": [
       "title                                        licensed professional counselor\n",
       "degrees                                                         ma, lpc, ncc\n",
       "city                                                                 Matawan\n",
       "state                                                             New Jersey\n",
       "ZIP                                                                    07747\n",
       "profile                    When life gets in the way of living - counseli...\n",
       "years                                                                      5\n",
       "school                                                 Rider University 1987\n",
       "statelicense                                         37PC00408900 New Jersey\n",
       "graduated                                                               2007\n",
       "fee                                                                      130\n",
       "insurance                                                                Yes\n",
       "specialties                    Relationship Issues, Family Conflict, Anxiety\n",
       "issues                     Adoption, Alzheimer, Behavioral Issues, Bipola...\n",
       "issuesnum                                                                 19\n",
       "mentalhealth               Impulse Control Disorders, Mood Disorders, Thi...\n",
       "mentalhealthnum                                                            3\n",
       "sexuality                                             Bisexual, Gay, Lesbian\n",
       "treatmentapproach                                                           \n",
       "treatmentapproachnum                                                       0\n",
       "treatmentorientation                                         Person-Centered\n",
       "treatmentorientationnum                                                    1\n",
       "url                        https://therapists.psychologytoday.com/rms/pro...\n",
       "region                                                             northeast\n",
       "Name: Valerie Le Moing, dtype: object"
      ]
     },
     "execution_count": 31,
     "metadata": {},
     "output_type": "execute_result"
    }
   ],
   "source": [
    "data.iloc[0,:]\n",
    "## need to clean this data:\n",
    "## delete name, url, treatment app"
   ]
  },
  {
   "cell_type": "code",
   "execution_count": 38,
   "metadata": {},
   "outputs": [
    {
     "data": {
      "image/png": "[encoded data removed]",
      "text/plain": [
       "<matplotlib.figure.Figure at 0x12dc96610>"
      ]
     },
     "metadata": {},
     "output_type": "display_data"
    }
   ],
   "source": [
    "data.years.hist(bins = 10);"
   ]
  },
  {
   "cell_type": "code",
   "execution_count": 41,
   "metadata": {},
   "outputs": [],
   "source": [
    "labels = [\"{0} - {1}\".format(i, i + 9) for i in [0,10,20]]\n",
    "labels.append('30+')\n",
    "data['years_ord'] = pd.cut(data.years, [0,10,20,30,100], right=False, labels=labels)\n",
    "#counts = data.groupby('years_ord').size()"
   ]
  },
  {
   "cell_type": "code",
   "execution_count": 45,
   "metadata": {},
   "outputs": [
    {
     "data": {
      "text/plain": [
       "4886"
      ]
     },
     "execution_count": 45,
     "metadata": {},
     "output_type": "execute_result"
    }
   ],
   "source": [
    "sns."
   ]
  },
  {
   "cell_type": "markdown",
   "metadata": {
    "collapsed": true
   },
   "source": [
    "--------------------\n",
    "### Limitations of these data\n",
    "\n",
    "- Bias: Because this is an opt-in, for-fee service, there is certainly a selection bias in any sample of profiles taken from PT. Profiles are typically created by providers who have a private practice. This means that providers who work out of hospitals or other large treatment centers/organization (e.g., the VA, Kaiser, community clinics) are less likely to have a PT profile. It is also likely that these providers may have a different set of characteristics than those in private practice (perhaps shorter average duration of treatment, more likely to take insurance, more likely to have certain types of degrees and training, more likely to treat more severe forms of psychopathology). As such, PT profile data cannot be used to understand the overall mental health field in the US. It is best thought of as an overview of the private-practice field (and even this is a bit biased, since there are certain clusters of private-practictioners who are less likely to have a PT profile).\n"
   ]
  },
  {
   "cell_type": "code",
   "execution_count": null,
   "metadata": {
    "collapsed": true
   },
   "outputs": [],
   "source": []
  },
  {
   "cell_type": "code",
   "execution_count": null,
   "metadata": {
    "collapsed": true
   },
   "outputs": [],
   "source": []
  }
 ],
 "metadata": {
  "kernelspec": {
   "display_name": "Python 2",
   "language": "python",
   "name": "python2"
  },
  "language_info": {
   "codemirror_mode": {
    "name": "ipython",
    "version": 2
   },
   "file_extension": ".py",
   "mimetype": "text/x-python",
   "name": "python",
   "nbconvert_exporter": "python",
   "pygments_lexer": "ipython2",
   "version": "2.7.9"
  }
 },
 "nbformat": 4,
 "nbformat_minor": 2
}
