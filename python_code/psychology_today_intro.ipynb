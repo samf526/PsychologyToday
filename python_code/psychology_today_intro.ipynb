{
 "cells": [
  {
   "cell_type": "markdown",
   "metadata": {},
   "source": [
    "# An Introduction to Psychology Today Therapist Data\n",
    "\n",
    "For my first data science project, I decided to explore a little pet-peeve of mine: therapists' profiles from Psychology Today's [Find a Therapist](https://therapists.psychologytoday.com/rms/?tr=Hdr_SubBrand) directory.\n",
    "\n",
    "Psychology Today's (PT) directory is perhaps the most extensive searchable directory of mental-healthcare providers in the USA. If a person were to search Google for a [therapist in their city](http://google.com/search?q=Cambridge+Ma+therapists), PT's therapist directory woud most likely be the first search result. Unless you live in an very rural area, there are likely to be 100s of therapists within 20 miles of you that have a profile on PT. As such, it is probably the most widely used way of locating potential therapists ([aside from asking friends and family](https://www.psychologytoday.com/blog/freudian-sip/201102/how-find-the-best-therapist-you)).\n",
    "\n",
    "The PT directory consists of When making a professional profile, providers typically include a variety of information: their title (e.g., psychologist, counselor), degree(s), years of experience, fee, issues treated, and treatment orientations/modalities. Providers may also write a few paragraphs describing their approach, goals, experience, and any other information they want to share about themselves and their practice. Potential consumers can use search filters to select only those therapists that meet certain criteria.\n",
    "\n",
    "To many, this immediately seems like an amazing tool for consumers: They can quickly examine their options, do a few comparisons (which of these people look nicer?), and pick the most perfect, unique therapist.\n",
    "\n",
    "So what's my pet peeve?\n",
    "\n",
    "As a PhD candidate in experimental psychology, I know a fair deal about treatment\n",
    "\n",
    "Well, the truth is, I have more than one.\n",
    "\n",
    "\n",
    "\n",
    "http://www.apa.org/helpcenter/choose-therapist.aspx\n",
    "\n",
    "\n",
    "\n",
    "People using the site may read through many profiles before . \n",
    "\n",
    "Given that the majority of people using this site probably have little familiarity with the particulars of mental health care, particularly issues such as treatment orientations.\n"
   ]
  },
  {
   "cell_type": "code",
   "execution_count": null,
   "metadata": {
    "collapsed": true
   },
   "outputs": [],
   "source": []
  }
 ],
 "metadata": {
  "kernelspec": {
   "display_name": "Python 2",
   "language": "python",
   "name": "python2"
  },
  "language_info": {
   "codemirror_mode": {
    "name": "ipython",
    "version": 2
   },
   "file_extension": ".py",
   "mimetype": "text/x-python",
   "name": "python",
   "nbconvert_exporter": "python",
   "pygments_lexer": "ipython2",
   "version": "2.7.9"
  }
 },
 "nbformat": 4,
 "nbformat_minor": 2
}
