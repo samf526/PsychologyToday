{
 "cells": [
  {
   "cell_type": "markdown",
   "metadata": {},
   "source": [
    "### Ideas for Geographic Analysis \n",
    "- develop way to sample randomly\n",
    " 1. Randomly select a few cities from a few different categories (median income, stress, crime rates?) cities randomly?"
   ]
  },
  {
   "cell_type": "markdown",
   "metadata": {},
   "source": [
    "### Potential titles\n",
    "- Geographic (/class/race/lifestyle) variation in mental health problems: Insights from PsychologyToday therapist profiles\n",
    "- What are people seeking treatment for?\n",
    "- Geographic (/class/race/lifestyle) variation in availability of mental health services: Insights from PsychologyToday therapist profiles\n",
    " - Do differences in services in different areas aline with differences in race/class/lifestyle?\n",
    " - How does cost and insurance coverage vary across regions, and does this aline with income?\n",
    " - for each region, show:\n",
    "  - average fee\n",
    "  - % accepting insurance\n",
    "  - top 5 specialties (and % of each endorsed)\n",
    "  - top 5 issues (and % of each endorsed)\n",
    "  - % of providers servicing "
   ]
  },
  {
   "cell_type": "code",
   "execution_count": null,
   "metadata": {
    "collapsed": true
   },
   "outputs": [],
   "source": []
  }
 ],
 "metadata": {
  "kernelspec": {
   "display_name": "Python 2",
   "language": "python",
   "name": "python2"
  },
  "language_info": {
   "codemirror_mode": {
    "name": "ipython",
    "version": 2
   },
   "file_extension": ".py",
   "mimetype": "text/x-python",
   "name": "python",
   "nbconvert_exporter": "python",
   "pygments_lexer": "ipython2",
   "version": "2.7.13"
  }
 },
 "nbformat": 4,
 "nbformat_minor": 2
}
